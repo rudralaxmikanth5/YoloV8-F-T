{
 "cells": [
  {
   "cell_type": "code",
   "execution_count": 2,
   "id": "c60d821b-c5f6-4df1-8a79-b2e3aef61cfc",
   "metadata": {},
   "outputs": [
    {
     "name": "stdout",
     "output_type": "stream",
     "text": [
      "Wed Apr  3 18:24:24 2024       \n",
      "+---------------------------------------------------------------------------------------+\n",
      "| NVIDIA-SMI 535.161.07             Driver Version: 535.161.07   CUDA Version: 12.2     |\n",
      "|-----------------------------------------+----------------------+----------------------+\n",
      "| GPU  Name                 Persistence-M | Bus-Id        Disp.A | Volatile Uncorr. ECC |\n",
      "| Fan  Temp   Perf          Pwr:Usage/Cap |         Memory-Usage | GPU-Util  Compute M. |\n",
      "|                                         |                      |               MIG M. |\n",
      "|=========================================+======================+======================|\n",
      "|   0  NVIDIA GeForce GTX 1080 Ti     Off | 00000000:01:00.0  On |                  N/A |\n",
      "| 32%   54C    P0              67W / 275W |    734MiB / 11264MiB |      3%      Default |\n",
      "|                                         |                      |                  N/A |\n",
      "+-----------------------------------------+----------------------+----------------------+\n",
      "|   1  NVIDIA GeForce GTX 1080 Ti     Off | 00000000:04:00.0 Off |                  N/A |\n",
      "|  0%   36C    P8               9W / 275W |      7MiB / 11264MiB |      0%      Default |\n",
      "|                                         |                      |                  N/A |\n",
      "+-----------------------------------------+----------------------+----------------------+\n",
      "                                                                                         \n",
      "+---------------------------------------------------------------------------------------+\n",
      "| Processes:                                                                            |\n",
      "|  GPU   GI   CI        PID   Type   Process name                            GPU Memory |\n",
      "|        ID   ID                                                             Usage      |\n",
      "|=======================================================================================|\n",
      "|    0   N/A  N/A      1770      G   /usr/lib/xorg/Xorg                          326MiB |\n",
      "|    0   N/A  N/A      1972      G   /usr/bin/gnome-shell                         75MiB |\n",
      "|    0   N/A  N/A      2600      G   ...sion,SpareRendererForSitePerProcess      147MiB |\n",
      "|    0   N/A  N/A      3897      G   ...seed-version=20240402-180138.402000       25MiB |\n",
      "|    0   N/A  N/A      4529      G   ...irefox/3941/usr/lib/firefox/firefox      155MiB |\n",
      "|    1   N/A  N/A      1770      G   /usr/lib/xorg/Xorg                            4MiB |\n",
      "+---------------------------------------------------------------------------------------+\n"
     ]
    }
   ],
   "source": [
    "!nvidia-smi"
   ]
  },
  {
   "cell_type": "code",
   "execution_count": 3,
   "id": "7a4f12a3-6d67-4339-804d-4e58b380a13f",
   "metadata": {},
   "outputs": [
    {
     "name": "stderr",
     "output_type": "stream",
     "text": [
      "Ultralytics YOLOv8.0.196 🚀 Python-3.10.12 torch-2.2.2+cu121 CUDA:0 (NVIDIA GeForce GTX 1080 Ti, 11169MiB)\n",
      "Setup complete ✅ (8 CPUs, 62.7 GB RAM, 217.7/915.3 GB disk)\n"
     ]
    }
   ],
   "source": [
    "!pip install ultralytics==8.0.196\n",
    "\n",
    "from IPython import display\n",
    "display.clear_output()\n",
    "\n",
    "import ultralytics\n",
    "ultralytics.checks()"
   ]
  },
  {
   "cell_type": "code",
   "execution_count": 4,
   "id": "7ed09fa2-794b-4176-809f-f2a5b98e4754",
   "metadata": {},
   "outputs": [],
   "source": [
    "from ultralytics import YOLO\n",
    "\n",
    "from IPython.display import display, Image"
   ]
  },
  {
   "cell_type": "code",
   "execution_count": 34,
   "id": "33f27981-b018-4b80-be43-b5c4d37aaaaa",
   "metadata": {},
   "outputs": [
    {
     "name": "stdout",
     "output_type": "stream",
     "text": [
      "/home/vplab/Desktop/kanth/YOLOv8/datasets\n",
      "loading Roboflow workspace...\n",
      "loading Roboflow project...\n"
     ]
    },
    {
     "name": "stderr",
     "output_type": "stream",
     "text": [
      "Downloading Dataset Version Zip in cell-detection-1 to yolov8:: 100%|██████████████████████████████████████████████████████████████████████████| 815/815 [00:01<00:00, 507.21it/s]"
     ]
    },
    {
     "name": "stdout",
     "output_type": "stream",
     "text": [
      "\n"
     ]
    },
    {
     "name": "stderr",
     "output_type": "stream",
     "text": [
      "\n",
      "Extracting Dataset Version Zip to cell-detection-1 in yolov8:: 100%|████████████████████████████████████████████████████████████████████████████| 40/40 [00:00<00:00, 7400.30it/s]"
     ]
    },
    {
     "name": "stdout",
     "output_type": "stream",
     "text": [
      "/home/vplab/Desktop/kanth/YOLOv8\n"
     ]
    },
    {
     "name": "stderr",
     "output_type": "stream",
     "text": [
      "\n"
     ]
    }
   ],
   "source": [
    "!mkdir datasets\n",
    "%cd datasets\n",
    "\n",
    "!pip install roboflow --quiet\n",
    "\n",
    "from roboflow import Roboflow\n",
    "rf = Roboflow(api_key=\"CMAK5iHcwcUzZLqrain4\")\n",
    "project = rf.workspace(\"rudra-vhs8a\").project(\"cell-detection-qsblz\")\n",
    "version = project.version(1)\n",
    "dataset = version.download(\"yolov8\")\n",
    "%cd .."
   ]
  },
  {
   "cell_type": "code",
   "execution_count": 22,
   "id": "09272a9c-3f0e-480b-9032-fb490c1c1a27",
   "metadata": {},
   "outputs": [
    {
     "name": "stdout",
     "output_type": "stream",
     "text": [
      "\u001b[0m\u001b[01;35m14880.jpg\u001b[0m  \u001b[01;34mdatasets\u001b[0m/  \u001b[01;34mruns\u001b[0m/  Yolov8.ipynb  yolov8n.pt  yolov8s.pt\n"
     ]
    }
   ],
   "source": [
    "%ls"
   ]
  },
  {
   "cell_type": "code",
   "execution_count": 35,
   "id": "4740a37b-614c-41f2-98b8-f6f24ffe9380",
   "metadata": {},
   "outputs": [
    {
     "name": "stdout",
     "output_type": "stream",
     "text": [
      "Downloading https://github.com/ultralytics/assets/releases/download/v0.0.0/yolov8s.pt to 'yolov8s.pt'...\n",
      "100%|██████████████████████████████████████| 21.5M/21.5M [00:00<00:00, 90.3MB/s]\n",
      "New https://pypi.org/project/ultralytics/8.1.34 available 😃 Update with 'pip install -U ultralytics'\n",
      "Ultralytics YOLOv8.0.196 🚀 Python-3.10.9 torch-2.2.1+cu121 CUDA:0 (NVIDIA GeForce GTX 1080 Ti, 11169MiB)\n",
      "\u001b[34m\u001b[1mengine/trainer: \u001b[0mtask=detect, mode=train, model=yolov8s.pt, data=/home/vplab/Desktop/kanth/YOLOv8/datasets/cell-detection-1/data.yaml, epochs=25, patience=50, batch=16, imgsz=800, save=True, save_period=-1, cache=False, device=None, workers=8, project=YOLOv8-F, name=main, exist_ok=True, pretrained=True, optimizer=auto, verbose=True, seed=0, deterministic=True, single_cls=False, rect=False, cos_lr=False, close_mosaic=10, resume=False, amp=True, fraction=1.0, profile=False, freeze=None, overlap_mask=True, mask_ratio=4, dropout=0.0, val=True, split=val, save_json=False, save_hybrid=False, conf=None, iou=0.7, max_det=300, half=False, dnn=False, plots=True, source=None, show=False, save_txt=False, save_conf=False, save_crop=False, show_labels=True, show_conf=True, vid_stride=1, stream_buffer=False, line_width=None, visualize=False, augment=False, agnostic_nms=False, classes=None, retina_masks=False, boxes=True, format=torchscript, keras=False, optimize=False, int8=False, dynamic=False, simplify=False, opset=None, workspace=4, nms=False, lr0=0.01, lrf=0.01, momentum=0.937, weight_decay=0.0005, warmup_epochs=3.0, warmup_momentum=0.8, warmup_bias_lr=0.1, box=7.5, cls=0.5, dfl=1.5, pose=12.0, kobj=1.0, label_smoothing=0.0, nbs=64, hsv_h=0.015, hsv_s=0.7, hsv_v=0.4, degrees=0.0, translate=0.1, scale=0.5, shear=0.0, perspective=0.0, flipud=0.0, fliplr=0.5, mosaic=1.0, mixup=0.0, copy_paste=0.0, cfg=None, tracker=botsort.yaml, save_dir=YOLOv8-F/main\n",
      "Overriding model.yaml nc=80 with nc=1\n",
      "\n",
      "                   from  n    params  module                                       arguments                     \n",
      "  0                  -1  1       928  ultralytics.nn.modules.conv.Conv             [3, 32, 3, 2]                 \n",
      "  1                  -1  1     18560  ultralytics.nn.modules.conv.Conv             [32, 64, 3, 2]                \n",
      "  2                  -1  1     29056  ultralytics.nn.modules.block.C2f             [64, 64, 1, True]             \n",
      "  3                  -1  1     73984  ultralytics.nn.modules.conv.Conv             [64, 128, 3, 2]               \n",
      "  4                  -1  2    197632  ultralytics.nn.modules.block.C2f             [128, 128, 2, True]           \n",
      "  5                  -1  1    295424  ultralytics.nn.modules.conv.Conv             [128, 256, 3, 2]              \n",
      "  6                  -1  2    788480  ultralytics.nn.modules.block.C2f             [256, 256, 2, True]           \n",
      "  7                  -1  1   1180672  ultralytics.nn.modules.conv.Conv             [256, 512, 3, 2]              \n",
      "  8                  -1  1   1838080  ultralytics.nn.modules.block.C2f             [512, 512, 1, True]           \n",
      "  9                  -1  1    656896  ultralytics.nn.modules.block.SPPF            [512, 512, 5]                 \n",
      " 10                  -1  1         0  torch.nn.modules.upsampling.Upsample         [None, 2, 'nearest']          \n",
      " 11             [-1, 6]  1         0  ultralytics.nn.modules.conv.Concat           [1]                           \n",
      " 12                  -1  1    591360  ultralytics.nn.modules.block.C2f             [768, 256, 1]                 \n",
      " 13                  -1  1         0  torch.nn.modules.upsampling.Upsample         [None, 2, 'nearest']          \n",
      " 14             [-1, 4]  1         0  ultralytics.nn.modules.conv.Concat           [1]                           \n",
      " 15                  -1  1    148224  ultralytics.nn.modules.block.C2f             [384, 128, 1]                 \n",
      " 16                  -1  1    147712  ultralytics.nn.modules.conv.Conv             [128, 128, 3, 2]              \n",
      " 17            [-1, 12]  1         0  ultralytics.nn.modules.conv.Concat           [1]                           \n",
      " 18                  -1  1    493056  ultralytics.nn.modules.block.C2f             [384, 256, 1]                 \n",
      " 19                  -1  1    590336  ultralytics.nn.modules.conv.Conv             [256, 256, 3, 2]              \n",
      " 20             [-1, 9]  1         0  ultralytics.nn.modules.conv.Concat           [1]                           \n",
      " 21                  -1  1   1969152  ultralytics.nn.modules.block.C2f             [768, 512, 1]                 \n",
      " 22        [15, 18, 21]  1   2116435  ultralytics.nn.modules.head.Detect           [1, [128, 256, 512]]          \n",
      "Model summary: 225 layers, 11135987 parameters, 11135971 gradients, 28.6 GFLOPs\n",
      "\n",
      "Transferred 349/355 items from pretrained weights\n",
      "\u001b[34m\u001b[1mTensorBoard: \u001b[0mStart with 'tensorboard --logdir YOLOv8-F/main', view at http://localhost:6006/\n",
      "Freezing layer 'model.22.dfl.conv.weight'\n",
      "\u001b[34m\u001b[1mAMP: \u001b[0mrunning Automatic Mixed Precision (AMP) checks with YOLOv8n...\n",
      "Downloading https://github.com/ultralytics/assets/releases/download/v0.0.0/yolov8n.pt to 'yolov8n.pt'...\n",
      "100%|██████████████████████████████████████| 6.23M/6.23M [00:00<00:00, 37.7MB/s]\n",
      "\u001b[34m\u001b[1mAMP: \u001b[0mchecks passed ✅\n",
      "\u001b[34m\u001b[1mtrain: \u001b[0mScanning /home/vplab/Desktop/kanth/YOLOv8/datasets/cell-detection-1/train\u001b[0m\n",
      "\u001b[34m\u001b[1mtrain: \u001b[0mNew cache created: /home/vplab/Desktop/kanth/YOLOv8/datasets/cell-detection-1/train/labels.cache\n",
      "\u001b[34m\u001b[1malbumentations: \u001b[0mBlur(p=0.01, blur_limit=(3, 7)), MedianBlur(p=0.01, blur_limit=(3, 7)), ToGray(p=0.01), CLAHE(p=0.01, clip_limit=(1, 4.0), tile_grid_size=(8, 8))\n",
      "\u001b[34m\u001b[1mval: \u001b[0mScanning /home/vplab/Desktop/kanth/YOLOv8/datasets/cell-detection-1/valid/l\u001b[0m\n",
      "\u001b[34m\u001b[1mval: \u001b[0mNew cache created: /home/vplab/Desktop/kanth/YOLOv8/datasets/cell-detection-1/valid/labels.cache\n",
      "Plotting labels to YOLOv8-F/main/labels.jpg... \n",
      "\u001b[34m\u001b[1moptimizer:\u001b[0m 'optimizer=auto' found, ignoring 'lr0=0.01' and 'momentum=0.937' and determining best 'optimizer', 'lr0' and 'momentum' automatically... \n",
      "\u001b[34m\u001b[1moptimizer:\u001b[0m AdamW(lr=0.002, momentum=0.9) with parameter groups 57 weight(decay=0.0), 64 weight(decay=0.0005), 63 bias(decay=0.0)\n",
      "Image sizes 800 train, 800 val\n",
      "Using 4 dataloader workers\n",
      "Logging results to \u001b[1mYOLOv8-F/main\u001b[0m\n",
      "Starting training for 25 epochs...\n",
      "\n",
      "      Epoch    GPU_mem   box_loss   cls_loss   dfl_loss  Instances       Size\n",
      "       1/25       4.2G      2.885      3.458      1.889        820        800: 1\n",
      "                 Class     Images  Instances      Box(P          R      mAP50  m\n",
      "                   all          3        212      0.241      0.127      0.078     0.0255\n",
      "\n",
      "      Epoch    GPU_mem   box_loss   cls_loss   dfl_loss  Instances       Size\n",
      "       2/25      4.34G      2.861      3.695      1.825        851        800: 1\n",
      "                 Class     Images  Instances      Box(P          R      mAP50  m\n",
      "                   all          3        212      0.236      0.142     0.0844     0.0252\n",
      "\n",
      "      Epoch    GPU_mem   box_loss   cls_loss   dfl_loss  Instances       Size\n",
      "       3/25      4.31G      2.833      3.408      1.823        839        800: 1\n",
      "                 Class     Images  Instances      Box(P          R      mAP50  m\n",
      "                   all          3        212       0.25      0.135     0.0797     0.0257\n",
      "\n",
      "      Epoch    GPU_mem   box_loss   cls_loss   dfl_loss  Instances       Size\n",
      "       4/25      4.08G      2.837      3.368      1.969        549        800: 1\n",
      "                 Class     Images  Instances      Box(P          R      mAP50  m\n",
      "                   all          3        212      0.203      0.142      0.083     0.0258\n",
      "\n",
      "      Epoch    GPU_mem   box_loss   cls_loss   dfl_loss  Instances       Size\n",
      "       5/25      3.92G      2.787      3.279      2.028        607        800: 1\n",
      "                 Class     Images  Instances      Box(P          R      mAP50  m\n",
      "                   all          3        212      0.214      0.165     0.0875     0.0277\n",
      "\n",
      "      Epoch    GPU_mem   box_loss   cls_loss   dfl_loss  Instances       Size\n",
      "       6/25      3.93G      2.799      3.329      1.907        805        800: 1\n",
      "                 Class     Images  Instances      Box(P          R      mAP50  m\n",
      "                   all          3        212      0.219      0.316      0.175     0.0526\n",
      "\n",
      "      Epoch    GPU_mem   box_loss   cls_loss   dfl_loss  Instances       Size\n",
      "       7/25      4.28G      2.724      2.627      1.807        868        800: 1\n",
      "                 Class     Images  Instances      Box(P          R      mAP50  m\n",
      "                   all          3        212      0.318      0.392      0.255     0.0785\n",
      "\n",
      "      Epoch    GPU_mem   box_loss   cls_loss   dfl_loss  Instances       Size\n",
      "       8/25      4.23G      2.593      1.807      1.718        821        800: 1\n",
      "                 Class     Images  Instances      Box(P          R      mAP50  m\n",
      "                   all          3        212       0.39      0.505      0.345      0.107\n",
      "\n",
      "      Epoch    GPU_mem   box_loss   cls_loss   dfl_loss  Instances       Size\n",
      "       9/25      4.19G      2.585      1.781       1.86        540        800: 1\n",
      "                 Class     Images  Instances      Box(P          R      mAP50  m\n",
      "                   all          3        212      0.357       0.59      0.374      0.117\n",
      "\n",
      "      Epoch    GPU_mem   box_loss   cls_loss   dfl_loss  Instances       Size\n",
      "      10/25      4.54G      2.588      1.579        1.6       1114        800: 1\n",
      "                 Class     Images  Instances      Box(P          R      mAP50  m\n",
      "                   all          3        212      0.433      0.557      0.398      0.123\n",
      "\n",
      "      Epoch    GPU_mem   box_loss   cls_loss   dfl_loss  Instances       Size\n",
      "      11/25      4.43G      2.584      1.391      1.553       1099        800: 1\n",
      "                 Class     Images  Instances      Box(P          R      mAP50  m\n",
      "                   all          3        212      0.422      0.594      0.426      0.133\n",
      "\n",
      "      Epoch    GPU_mem   box_loss   cls_loss   dfl_loss  Instances       Size\n",
      "      12/25      4.23G      2.461      1.431      1.661        657        800: 1\n",
      "                 Class     Images  Instances      Box(P          R      mAP50  m\n",
      "                   all          3        212       0.44      0.557       0.44      0.138\n",
      "\n",
      "      Epoch    GPU_mem   box_loss   cls_loss   dfl_loss  Instances       Size\n",
      "      13/25      4.28G      2.426      1.373       1.61        652        800: 1\n",
      "                 Class     Images  Instances      Box(P          R      mAP50  m\n",
      "                   all          3        212      0.445      0.604      0.472      0.144\n",
      "\n",
      "      Epoch    GPU_mem   box_loss   cls_loss   dfl_loss  Instances       Size\n",
      "      14/25      4.18G      2.337       1.35      1.593        687        800: 1\n",
      "                 Class     Images  Instances      Box(P          R      mAP50  m\n",
      "                   all          3        212      0.469      0.603      0.492       0.15\n",
      "\n",
      "      Epoch    GPU_mem   box_loss   cls_loss   dfl_loss  Instances       Size\n",
      "      15/25      4.01G      2.388      1.361      1.543        622        800: 1\n",
      "                 Class     Images  Instances      Box(P          R      mAP50  m\n",
      "                   all          3        212       0.53      0.579      0.546      0.173\n",
      "Closing dataloader mosaic\n",
      "\u001b[34m\u001b[1malbumentations: \u001b[0mBlur(p=0.01, blur_limit=(3, 7)), MedianBlur(p=0.01, blur_limit=(3, 7)), ToGray(p=0.01), CLAHE(p=0.01, clip_limit=(1, 4.0), tile_grid_size=(8, 8))\n",
      "\n",
      "      Epoch    GPU_mem   box_loss   cls_loss   dfl_loss  Instances       Size\n",
      "      16/25      4.11G      2.352      1.346      1.494        536        800: 1\n",
      "                 Class     Images  Instances      Box(P          R      mAP50  m\n",
      "                   all          3        212      0.542      0.594      0.559      0.182\n",
      "\n",
      "      Epoch    GPU_mem   box_loss   cls_loss   dfl_loss  Instances       Size\n",
      "      17/25      4.05G      2.327      1.356      1.471        538        800: 1\n",
      "                 Class     Images  Instances      Box(P          R      mAP50  m\n",
      "                   all          3        212      0.533      0.566      0.558      0.181\n",
      "\n",
      "      Epoch    GPU_mem   box_loss   cls_loss   dfl_loss  Instances       Size\n",
      "      18/25      4.11G       2.31      1.311      1.502        542        800: 1\n",
      "                 Class     Images  Instances      Box(P          R      mAP50  m\n",
      "                   all          3        212      0.533      0.566      0.558      0.181\n",
      "\n",
      "      Epoch    GPU_mem   box_loss   cls_loss   dfl_loss  Instances       Size\n",
      "      19/25      4.06G      2.328      1.417      1.601        476        800: 1\n",
      "                 Class     Images  Instances      Box(P          R      mAP50  m\n",
      "                   all          3        212      0.488      0.604      0.527      0.174\n",
      "\n",
      "      Epoch    GPU_mem   box_loss   cls_loss   dfl_loss  Instances       Size\n",
      "      20/25      4.11G      2.372      1.294      1.424        612        800: 1\n",
      "                 Class     Images  Instances      Box(P          R      mAP50  m\n",
      "                   all          3        212      0.488      0.604      0.527      0.174\n",
      "\n",
      "      Epoch    GPU_mem   box_loss   cls_loss   dfl_loss  Instances       Size\n",
      "      21/25      4.04G      2.329      1.341      1.558        549        800: 1\n",
      "                 Class     Images  Instances      Box(P          R      mAP50  m\n",
      "                   all          3        212      0.558        0.5      0.519      0.174\n",
      "\n",
      "      Epoch    GPU_mem   box_loss   cls_loss   dfl_loss  Instances       Size\n",
      "      22/25      4.04G       2.31      1.287      1.484        587        800: 1\n",
      "                 Class     Images  Instances      Box(P          R      mAP50  m\n",
      "                   all          3        212      0.558        0.5      0.519      0.174\n",
      "\n",
      "      Epoch    GPU_mem   box_loss   cls_loss   dfl_loss  Instances       Size\n",
      "      23/25      4.04G      2.356      1.287      1.519        563        800: 1\n",
      "                 Class     Images  Instances      Box(P          R      mAP50  m\n",
      "                   all          3        212      0.549      0.528      0.516      0.169\n",
      "\n",
      "      Epoch    GPU_mem   box_loss   cls_loss   dfl_loss  Instances       Size\n",
      "      24/25      4.01G      2.273      1.336      1.542        487        800: 1\n",
      "                 Class     Images  Instances      Box(P          R      mAP50  m\n",
      "                   all          3        212      0.549      0.528      0.516      0.169\n",
      "\n",
      "      Epoch    GPU_mem   box_loss   cls_loss   dfl_loss  Instances       Size\n",
      "      25/25      4.05G      2.291      1.378      1.642        483        800: 1\n",
      "                 Class     Images  Instances      Box(P          R      mAP50  m\n",
      "                   all          3        212       0.55       0.53      0.513      0.168\n",
      "\n",
      "25 epochs completed in 0.019 hours.\n",
      "Optimizer stripped from YOLOv8-F/main/weights/last.pt, 22.5MB\n",
      "Optimizer stripped from YOLOv8-F/main/weights/best.pt, 22.5MB\n",
      "\n",
      "Validating YOLOv8-F/main/weights/best.pt...\n",
      "Ultralytics YOLOv8.0.196 🚀 Python-3.10.9 torch-2.2.1+cu121 CUDA:0 (NVIDIA GeForce GTX 1080 Ti, 11169MiB)\n",
      "Model summary (fused): 168 layers, 11125971 parameters, 0 gradients, 28.4 GFLOPs\n",
      "                 Class     Images  Instances      Box(P          R      mAP50  m\n",
      "                   all          3        212      0.542      0.592      0.557      0.182\n",
      "Speed: 0.3ms preprocess, 10.2ms inference, 0.0ms loss, 2.4ms postprocess per image\n",
      "Results saved to \u001b[1mYOLOv8-F/main\u001b[0m\n",
      "💡 Learn more at https://docs.ultralytics.com/modes/train\n"
     ]
    }
   ],
   "source": [
    "!yolo task=detect mode=train model=yolov8s.pt data=/home/vplab/Desktop/kanth/YOLOv8/datasets/cell-detection-1/data.yaml epochs=25 imgsz=800 plots=True project=YOLOv8-F name=main exist_ok=True  "
   ]
  },
  {
   "cell_type": "code",
   "execution_count": 5,
   "id": "8ccf0d63-a57f-4161-b588-711f98c3873f",
   "metadata": {},
   "outputs": [
    {
     "name": "stdout",
     "output_type": "stream",
     "text": [
      "WARNING ⚠️ YOLOv8-F/main/weights/best.pt appears to require 'dill', which is not in ultralytics requirements.\n",
      "AutoInstall will run now for 'dill' but this feature will be removed in the future.\n",
      "Recommend fixes are to train a new model using the latest 'ultralytics' package or to run a command with an official YOLOv8 model, i.e. 'yolo predict model=yolov8n.pt'\n",
      "\u001b[31m\u001b[1mrequirements:\u001b[0m Ultralytics requirement ['dill'] not found, attempting AutoUpdate...\n",
      "Defaulting to user installation because normal site-packages is not writeable\n",
      "Collecting dill\n",
      "  Downloading dill-0.3.8-py3-none-any.whl (116 kB)\n",
      "     ━━━━━━━━━━━━━━━━━━━━━━━━━━━━━━━━━━━━━━━ 116.3/116.3 KB 1.4 MB/s eta 0:00:00\n",
      "Installing collected packages: dill\n",
      "Successfully installed dill-0.3.8\n",
      "\n",
      "\u001b[31m\u001b[1mrequirements:\u001b[0m AutoUpdate success ✅ 1.9s, installed 1 package: ['dill']\n",
      "\u001b[31m\u001b[1mrequirements:\u001b[0m ⚠️ \u001b[1mRestart runtime or rerun command for updates to take effect\u001b[0m\n",
      "\n",
      "Ultralytics YOLOv8.0.196 🚀 Python-3.10.12 torch-2.2.2+cu121 CUDA:0 (NVIDIA GeForce GTX 1080 Ti, 11169MiB)\n",
      "Model summary (fused): 168 layers, 11125971 parameters, 0 gradients, 28.4 GFLOPs\n",
      "\n",
      "WARNING ⚠️ imgsz=[100] must be multiple of max stride 32, updating to [128]\n",
      "image 1/20 /home/vplab/Desktop/kanth/YOLOv8/Performence_Analysis/Main_input/14730_0_3.jpg: 128x128 24 cells, 5.8ms\n",
      "image 2/20 /home/vplab/Desktop/kanth/YOLOv8/Performence_Analysis/Main_input/14730_1_6.jpg: 128x128 12 cells, 5.6ms\n",
      "image 3/20 /home/vplab/Desktop/kanth/YOLOv8/Performence_Analysis/Main_input/14730_2_4.jpg: 128x128 16 cells, 4.7ms\n",
      "image 4/20 /home/vplab/Desktop/kanth/YOLOv8/Performence_Analysis/Main_input/14730_2_7.jpg: 128x128 14 cells, 5.4ms\n",
      "image 5/20 /home/vplab/Desktop/kanth/YOLOv8/Performence_Analysis/Main_input/14730_4_2.jpg: 128x128 20 cells, 5.0ms\n",
      "image 6/20 /home/vplab/Desktop/kanth/YOLOv8/Performence_Analysis/Main_input/14730_4_5.jpg: 128x128 14 cells, 5.8ms\n",
      "image 7/20 /home/vplab/Desktop/kanth/YOLOv8/Performence_Analysis/Main_input/14730_6_2.jpg: 128x128 24 cells, 6.5ms\n",
      "image 8/20 /home/vplab/Desktop/kanth/YOLOv8/Performence_Analysis/Main_input/14732_1_5.jpg: 128x128 15 cells, 5.5ms\n",
      "image 9/20 /home/vplab/Desktop/kanth/YOLOv8/Performence_Analysis/Main_input/14732_1_7.jpg: 128x128 12 cells, 6.2ms\n",
      "image 10/20 /home/vplab/Desktop/kanth/YOLOv8/Performence_Analysis/Main_input/14732_2_6.jpg: 128x128 12 cells, 6.4ms\n",
      "image 11/20 /home/vplab/Desktop/kanth/YOLOv8/Performence_Analysis/Main_input/14732_3_0.jpg: 128x128 5 cells, 5.2ms\n",
      "image 12/20 /home/vplab/Desktop/kanth/YOLOv8/Performence_Analysis/Main_input/14732_4_6.jpg: 128x128 10 cells, 5.1ms\n",
      "image 13/20 /home/vplab/Desktop/kanth/YOLOv8/Performence_Analysis/Main_input/14732_5_1.jpg: 128x128 12 cells, 7.4ms\n",
      "image 14/20 /home/vplab/Desktop/kanth/YOLOv8/Performence_Analysis/Main_input/15188_0_5.jpg: 128x128 19 cells, 7.4ms\n",
      "image 15/20 /home/vplab/Desktop/kanth/YOLOv8/Performence_Analysis/Main_input/15188_1_7.jpg: 128x128 24 cells, 8.3ms\n",
      "image 16/20 /home/vplab/Desktop/kanth/YOLOv8/Performence_Analysis/Main_input/15188_3_7.jpg: 128x128 22 cells, 4.9ms\n",
      "image 17/20 /home/vplab/Desktop/kanth/YOLOv8/Performence_Analysis/Main_input/15188_4_3.jpg: 128x128 10 cells, 5.0ms\n",
      "image 18/20 /home/vplab/Desktop/kanth/YOLOv8/Performence_Analysis/Main_input/15188_4_7.jpg: 128x128 15 cells, 4.9ms\n",
      "image 19/20 /home/vplab/Desktop/kanth/YOLOv8/Performence_Analysis/Main_input/15188_5_6.jpg: 128x128 16 cells, 5.0ms\n",
      "image 20/20 /home/vplab/Desktop/kanth/YOLOv8/Performence_Analysis/Main_input/15188_7_3.jpg: 128x128 13 cells, 4.7ms\n",
      "Speed: 0.3ms preprocess, 5.7ms inference, 16.6ms postprocess per image at shape (1, 3, 128, 128)\n",
      "Results saved to \u001b[1mtemp/predict14\u001b[0m\n",
      "20 labels saved to temp/predict14/labels\n",
      "💡 Learn more at https://docs.ultralytics.com/modes/predict\n"
     ]
    }
   ],
   "source": [
    "!yolo task=detect mode=predict model=YOLOv8-F/main/weights/best.pt conf=0.4 source=Performence_Analysis/Main_input save=True imgsz=100 show_labels=False project=temp max_det=1000000 save_txt=True"
   ]
  },
  {
   "cell_type": "code",
   "execution_count": 4,
   "id": "e438fb93-f1da-46c9-9d03-eaf7990d0a7e",
   "metadata": {},
   "outputs": [
    {
     "data": {
      "image/jpeg": "[encoded data removed]",
      "text/plain": [
       "<IPython.core.display.Image object>"
      ]
     },
     "metadata": {
      "image/jpeg": {
       "width": 600
      }
     },
     "output_type": "display_data"
    },
    {
     "name": "stdout",
     "output_type": "stream",
     "text": [
      "\n",
      "\n"
     ]
    },
    {
     "data": {
      "image/jpeg": "[encoded data removed]",
      "text/plain": [
       "<IPython.core.display.Image object>"
      ]
     },
     "metadata": {
      "image/jpeg": {
       "width": 600
      }
     },
     "output_type": "display_data"
    },
    {
     "name": "stdout",
     "output_type": "stream",
     "text": [
      "\n",
      "\n"
     ]
    },
    {
     "data": {
      "image/jpeg": "[encoded data removed]",
      "text/plain": [
       "<IPython.core.display.Image object>"
      ]
     },
     "metadata": {
      "image/jpeg": {
       "width": 600
      }
     },
     "output_type": "display_data"
    },
    {
     "name": "stdout",
     "output_type": "stream",
     "text": [
      "\n",
      "\n"
     ]
    },
    {
     "data": {
      "image/jpeg": "[encoded data removed]",
      "text/plain": [
       "<IPython.core.display.Image object>"
      ]
     },
     "metadata": {
      "image/jpeg": {
       "width": 600
      }
     },
     "output_type": "display_data"
    },
    {
     "name": "stdout",
     "output_type": "stream",
     "text": [
      "\n",
      "\n"
     ]
    },
    {
     "data": {
      "image/jpeg": "[encoded data removed]",
      "text/plain": [
       "<IPython.core.display.Image object>"
      ]
     },
     "metadata": {
      "image/jpeg": {
       "width": 600
      }
     },
     "output_type": "display_data"
    },
    {
     "name": "stdout",
     "output_type": "stream",
     "text": [
      "\n",
      "\n"
     ]
    },
    {
     "data": {
      "image/jpeg": "[encoded data removed]",
      "text/plain": [
       "<IPython.core.display.Image object>"
      ]
     },
     "metadata": {
      "image/jpeg": {
       "width": 600
      }
     },
     "output_type": "display_data"
    },
    {
     "name": "stdout",
     "output_type": "stream",
     "text": [
      "\n",
      "\n"
     ]
    },
    {
     "data": {
      "image/jpeg": "[encoded data removed]",
      "text/plain": [
       "<IPython.core.display.Image object>"
      ]
     },
     "metadata": {
      "image/jpeg": {
       "width": 600
      }
     },
     "output_type": "display_data"
    },
    {
     "name": "stdout",
     "output_type": "stream",
     "text": [
      "\n",
      "\n"
     ]
    },
    {
     "data": {
      "image/jpeg": "[encoded data removed]",
      "text/plain": [
       "<IPython.core.display.Image object>"
      ]
     },
     "metadata": {
      "image/jpeg": {
       "width": 600
      }
     },
     "output_type": "display_data"
    },
    {
     "name": "stdout",
     "output_type": "stream",
     "text": [
      "\n",
      "\n"
     ]
    },
    {
     "data": {
      "image/jpeg": "[encoded data removed]",
      "text/plain": [
       "<IPython.core.display.Image object>"
      ]
     },
     "metadata": {
      "image/jpeg": {
       "width": 600
      }
     },
     "output_type": "display_data"
    },
    {
     "name": "stdout",
     "output_type": "stream",
     "text": [
      "\n",
      "\n"
     ]
    },
    {
     "data": {
      "image/jpeg": "[encoded data removed]",
      "text/plain": [
       "<IPython.core.display.Image object>"
      ]
     },
     "metadata": {
      "image/jpeg": {
       "width": 600
      }
     },
     "output_type": "display_data"
    },
    {
     "name": "stdout",
     "output_type": "stream",
     "text": [
      "\n",
      "\n"
     ]
    },
    {
     "data": {
      "image/jpeg": "[encoded data removed]",
      "text/plain": [
       "<IPython.core.display.Image object>"
      ]
     },
     "metadata": {
      "image/jpeg": {
       "width": 600
      }
     },
     "output_type": "display_data"
    },
    {
     "name": "stdout",
     "output_type": "stream",
     "text": [
      "\n",
      "\n"
     ]
    },
    {
     "data": {
      "image/jpeg": "[encoded data removed]",
      "text/plain": [
       "<IPython.core.display.Image object>"
      ]
     },
     "metadata": {
      "image/jpeg": {
       "width": 600
      }
     },
     "output_type": "display_data"
    },
    {
     "name": "stdout",
     "output_type": "stream",
     "text": [
      "\n",
      "\n"
     ]
    },
    {
     "data": {
      "image/jpeg": "[encoded data removed]",
      "text/plain": [
       "<IPython.core.display.Image object>"
      ]
     },
     "metadata": {
      "image/jpeg": {
       "width": 600
      }
     },
     "output_type": "display_data"
    },
    {
     "name": "stdout",
     "output_type": "stream",
     "text": [
      "\n",
      "\n"
     ]
    },
    {
     "data": {
      "image/jpeg": "[encoded data removed]",
      "text/plain": [
       "<IPython.core.display.Image object>"
      ]
     },
     "metadata": {
      "image/jpeg": {
       "width": 600
      }
     },
     "output_type": "display_data"
    },
    {
     "name": "stdout",
     "output_type": "stream",
     "text": [
      "\n",
      "\n"
     ]
    },
    {
     "data": {
      "image/jpeg": "[encoded data removed]",
      "text/plain": [
       "<IPython.core.display.Image object>"
      ]
     },
     "metadata": {
      "image/jpeg": {
       "width": 600
      }
     },
     "output_type": "display_data"
    },
    {
     "name": "stdout",
     "output_type": "stream",
     "text": [
      "\n",
      "\n"
     ]
    },
    {
     "data": {
      "image/jpeg": "[encoded data removed]",
      "text/plain": [
       "<IPython.core.display.Image object>"
      ]
     },
     "metadata": {
      "image/jpeg": {
       "width": 600
      }
     },
     "output_type": "display_data"
    },
    {
     "name": "stdout",
     "output_type": "stream",
     "text": [
      "\n",
      "\n"
     ]
    },
    {
     "data": {
      "image/jpeg": "[encoded data removed]",
      "text/plain": [
       "<IPython.core.display.Image object>"
      ]
     },
     "metadata": {
      "image/jpeg": {
       "width": 600
      }
     },
     "output_type": "display_data"
    },
    {
     "name": "stdout",
     "output_type": "stream",
     "text": [
      "\n",
      "\n"
     ]
    },
    {
     "data": {
      "image/jpeg": "[encoded data removed]",
      "text/plain": [
       "<IPython.core.display.Image object>"
      ]
     },
     "metadata": {
      "image/jpeg": {
       "width": 600
      }
     },
     "output_type": "display_data"
    },
    {
     "name": "stdout",
     "output_type": "stream",
     "text": [
      "\n",
      "\n"
     ]
    },
    {
     "data": {
      "image/jpeg": "[encoded data removed]",
      "text/plain": [
       "<IPython.core.display.Image object>"
      ]
     },
     "metadata": {
      "image/jpeg": {
       "width": 600
      }
     },
     "output_type": "display_data"
    },
    {
     "name": "stdout",
     "output_type": "stream",
     "text": [
      "\n",
      "\n"
     ]
    },
    {
     "data": {
      "image/jpeg": "[encoded data removed]",
      "text/plain": [
       "<IPython.core.display.Image object>"
      ]
     },
     "metadata": {
      "image/jpeg": {
       "width": 600
      }
     },
     "output_type": "display_data"
    },
    {
     "name": "stdout",
     "output_type": "stream",
     "text": [
      "\n",
      "\n"
     ]
    }
   ],
   "source": [
    "import glob\n",
    "from IPython.display import Image, display\n",
    "\n",
    "for image_path in glob.glob('temp/predict13/*.jpg')[:]:\n",
    "      display(Image(filename=image_path, width=600))\n",
    "      print(\"\\n\")"
   ]
  },
  {
   "cell_type": "code",
   "execution_count": null,
   "id": "ea7848cc-8339-4177-b646-5ad02f545832",
   "metadata": {},
   "outputs": [],
   "source": []
  }
 ],
 "metadata": {
  "kernelspec": {
   "display_name": "Python 3 (ipykernel)",
   "language": "python",
   "name": "python3"
  },
  "language_info": {
   "codemirror_mode": {
    "name": "ipython",
    "version": 3
   },
   "file_extension": ".py",
   "mimetype": "text/x-python",
   "name": "python",
   "nbconvert_exporter": "python",
   "pygments_lexer": "ipython3",
   "version": "3.10.12"
  }
 },
 "nbformat": 4,
 "nbformat_minor": 5
}
